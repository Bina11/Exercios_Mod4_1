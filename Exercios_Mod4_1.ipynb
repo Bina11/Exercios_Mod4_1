{
 "cells": [
  {
   "cell_type": "markdown",
   "metadata": {},
   "source": [
    "# Tarefa 01\n",
    "\n",
    "- Leia os enunciados com atenção\n",
    "- Saiba que pode haver mais de uma resposta correta\n",
    "- Insira novas células de código sempre que achar necessário\n",
    "- Em caso de dúvidas, procure os tutores\n",
    "- Divirta-se :)\n",
    "\n",
    "#### 1)  crie uma série do pandas a partir de uma lista com os dados abaixo:\n",
    "\n",
    "Em um estudo sobre alteração na tempreatura global, A NASA disponibiliza dados de diferenças de de temperatura média da superfície terrestre relativos às médias de temperatura entre 1951 e 1980. Os dados originais podem ser vistos no site da NASA/GISS, e estão dispostos a cada década na tabela abaixo.\n",
    "\n",
    "|ano|anomalia termica|\n",
    "|:-:|:----:|\n",
    "| 1900 | -0.08 |\n",
    "| 1920 | -0.27 |\n",
    "| 1940 | 0.12 |\n",
    "| 1960 | -0.03 |\n",
    "| 1980 | 0.26 |\n",
    "| 2000 | 0.40 |\n",
    "| 2020 | 1.02 |\n",
    "\n",
    "Crie uma séries do Pandas a partir de uma lista com esses dados."
   ]
  },
  {
   "cell_type": "code",
   "execution_count": 10,
   "metadata": {},
   "outputs": [
    {
     "data": {
      "text/plain": [
       "0   -0.08\n",
       "1   -0.27\n",
       "2    0.12\n",
       "3   -0.03\n",
       "4    0.26\n",
       "5    0.40\n",
       "6    1.02\n",
       "dtype: float64"
      ]
     },
     "execution_count": 10,
     "metadata": {},
     "output_type": "execute_result"
    }
   ],
   "source": [
    "import pandas as pd\n",
    "import numpy as np\n",
    "\n",
    "# Seu código aqui\n",
    "dados = [-0.08,-0.27,0.12,-0.03,0.26,0.40,1.02]\n",
    "classeAnomliaTermica = pd.Series(dados)\n",
    "classeAnomliaTermica"
   ]
  },
  {
   "cell_type": "markdown",
   "metadata": {},
   "source": [
    "#### 2) Coloque os anos nos índices conforme a tabela."
   ]
  },
  {
   "cell_type": "code",
   "execution_count": 11,
   "metadata": {},
   "outputs": [
    {
     "data": {
      "text/plain": [
       "1900   -0.08\n",
       "1920   -0.27\n",
       "1940    0.12\n",
       "1960   -0.03\n",
       "1980    0.26\n",
       "2000    0.40\n",
       "2020    1.02\n",
       "dtype: float64"
      ]
     },
     "execution_count": 11,
     "metadata": {},
     "output_type": "execute_result"
    }
   ],
   "source": [
    "# seu código aqui\n",
    "classeAnomliaTermicaCOMINDEX = pd.Series ([-0.08,-0.27,0.12,-0.03,0.26,0.40,1.02],\n",
    "                                          index=['1900', '1920', '1940', '1960', '1980', '2000', '2020'])\n",
    "classeAnomliaTermicaCOMINDEX\n",
    "\n"
   ]
  },
  {
   "cell_type": "markdown",
   "metadata": {},
   "source": [
    "#### 3) A partir do dicionário abaixo, crie uma séries do Pandas:"
   ]
  },
  {
   "cell_type": "code",
   "execution_count": 12,
   "metadata": {},
   "outputs": [
    {
     "data": {
      "text/plain": [
       "1900   -0.08\n",
       "1920   -0.27\n",
       "1940    0.12\n",
       "1980    0.26\n",
       "2000    0.40\n",
       "2020    1.02\n",
       "dtype: float64"
      ]
     },
     "execution_count": 12,
     "metadata": {},
     "output_type": "execute_result"
    }
   ],
   "source": [
    "dic_temperaturas = {1900: -.08, 1920: -.27, 1940: .12, 1960: -.03, 1980: .26, 2000: .40, 2020: 1.02}\n",
    "\n",
    "# seu código aqui\n",
    "classeTemperaturasDict = {'1900': -.08,\n",
    "                   '1920': -.27,\n",
    "                   '1940': .12,\n",
    "                   '1980': .26,\n",
    "                   '2000': .40,\n",
    "                   '2020': 1.02}\n",
    "classeDicTemperaturas = pd.Series(classeTemperaturasDict)\n",
    "classeDicTemperaturas"
   ]
  },
  {
   "cell_type": "markdown",
   "metadata": {},
   "source": [
    "#### 4) Transforme o ndarray abaixo em um dataframe. \n",
    "O numpy é capaz de gerar arrays n-dimensionais com números pseudo-aleatórios de acordo com uma variedade de distribuições, como no exemplo abaixo. Transforme esse nd-array em um DataFrame."
   ]
  },
  {
   "cell_type": "code",
   "execution_count": 13,
   "metadata": {},
   "outputs": [
    {
     "data": {
      "text/plain": [
       "100    4\n",
       "10     4\n",
       "20     4\n",
       "3      4\n",
       "dtype: int64"
      ]
     },
     "execution_count": 13,
     "metadata": {},
     "output_type": "execute_result"
    }
   ],
   "source": [
    "arr = np.random.normal(100, 10, (20,3))\n",
    "\n",
    "# seu código aqui\n",
    "\n",
    "pd.Series(np.random.randn(3))\n",
    "pd.Series(np.random.randn(10))\n",
    "pd.Series(np.random.randn(20))\n",
    "pd.Series(np.random.randn(100))\n",
    "pd.Series(4, index=[100,10,20,3])\n"
   ]
  },
  {
   "cell_type": "markdown",
   "metadata": {},
   "source": [
    "#### 5) Nomeie os índices das linhas com inteiros de 1 a 20, e as colunas com os nomes \"x1\", \"x2\", e \"x3\" respectivamente."
   ]
  },
  {
   "cell_type": "code",
   "execution_count": 31,
   "metadata": {},
   "outputs": [
    {
     "data": {
      "text/html": [
       "<div>\n",
       "<style scoped>\n",
       "    .dataframe tbody tr th:only-of-type {\n",
       "        vertical-align: middle;\n",
       "    }\n",
       "\n",
       "    .dataframe tbody tr th {\n",
       "        vertical-align: top;\n",
       "    }\n",
       "\n",
       "    .dataframe thead th {\n",
       "        text-align: right;\n",
       "    }\n",
       "</style>\n",
       "<table border=\"1\" class=\"dataframe\">\n",
       "  <thead>\n",
       "    <tr style=\"text-align: right;\">\n",
       "      <th></th>\n",
       "      <th>Idade</th>\n",
       "      <th>Sexo</th>\n",
       "      <th>Peso</th>\n",
       "      <th>Altura</th>\n",
       "    </tr>\n",
       "  </thead>\n",
       "  <tbody>\n",
       "    <tr>\n",
       "      <th>0</th>\n",
       "      <td>21</td>\n",
       "      <td>F</td>\n",
       "      <td>50</td>\n",
       "      <td>1.57</td>\n",
       "    </tr>\n",
       "    <tr>\n",
       "      <th>1</th>\n",
       "      <td>22</td>\n",
       "      <td>F</td>\n",
       "      <td>58</td>\n",
       "      <td>1.70</td>\n",
       "    </tr>\n",
       "  </tbody>\n",
       "</table>\n",
       "</div>"
      ],
      "text/plain": [
       "   Idade Sexo  Peso  Altura\n",
       "0     21    F    50    1.57\n",
       "1     22    F    58    1.70"
      ]
     },
     "execution_count": 31,
     "metadata": {},
     "output_type": "execute_result"
    }
   ],
   "source": [
    "#seu código aqui\n",
    "\n",
    "\n",
    "\n",
    "              \n",
    "meu_df = pd.DataFrame([[21,'F', 50, 1.57],[22,'F',58, 1.70]], index=range(0,2), columns=['Idade', 'Sexo', 'Peso', 'Altura'])\n",
    "meu_df\n",
    "\n",
    "    \n"
   ]
  },
  {
   "cell_type": "markdown",
   "metadata": {},
   "source": [
    "#### 6) No DataFrame do exercício 5, crie uma nova coluna como sendo a média das três colunas, e dê a ela o nome de \"media\" (não recomendo colocar acentos em nomes de variáveis)."
   ]
  },
  {
   "cell_type": "code",
   "execution_count": 32,
   "metadata": {},
   "outputs": [
    {
     "data": {
      "text/html": [
       "<div>\n",
       "<style scoped>\n",
       "    .dataframe tbody tr th:only-of-type {\n",
       "        vertical-align: middle;\n",
       "    }\n",
       "\n",
       "    .dataframe tbody tr th {\n",
       "        vertical-align: top;\n",
       "    }\n",
       "\n",
       "    .dataframe thead th {\n",
       "        text-align: right;\n",
       "    }\n",
       "</style>\n",
       "<table border=\"1\" class=\"dataframe\">\n",
       "  <thead>\n",
       "    <tr style=\"text-align: right;\">\n",
       "      <th></th>\n",
       "      <th>Idade</th>\n",
       "      <th>Sexo</th>\n",
       "      <th>Peso</th>\n",
       "      <th>Altura</th>\n",
       "      <th>media</th>\n",
       "    </tr>\n",
       "  </thead>\n",
       "  <tbody>\n",
       "    <tr>\n",
       "      <th>0</th>\n",
       "      <td>21</td>\n",
       "      <td>F</td>\n",
       "      <td>50</td>\n",
       "      <td>1.57</td>\n",
       "      <td>1.516530</td>\n",
       "    </tr>\n",
       "    <tr>\n",
       "      <th>1</th>\n",
       "      <td>22</td>\n",
       "      <td>F</td>\n",
       "      <td>58</td>\n",
       "      <td>1.70</td>\n",
       "      <td>1.550802</td>\n",
       "    </tr>\n",
       "  </tbody>\n",
       "</table>\n",
       "</div>"
      ],
      "text/plain": [
       "   Idade Sexo  Peso  Altura     media\n",
       "0     21    F    50    1.57  1.516530\n",
       "1     22    F    58    1.70  1.550802"
      ]
     },
     "execution_count": 32,
     "metadata": {},
     "output_type": "execute_result"
    }
   ],
   "source": [
    "# seu código aqui\n",
    "meu_df ['media'] = meu_df['Peso'] / meu_df['Altura'] / meu_df['Idade']\n",
    "meu_df"
   ]
  },
  {
   "cell_type": "markdown",
   "metadata": {},
   "source": [
    "#### 7) No DataFrame do exercício 6, crie uma nova coluna chamada \"log_med\", contendo o logaritmo natural da média calculada no exercício 6 <br>"
   ]
  },
  {
   "cell_type": "code",
   "execution_count": 37,
   "metadata": {},
   "outputs": [
    {
     "data": {
      "text/html": [
       "<div>\n",
       "<style scoped>\n",
       "    .dataframe tbody tr th:only-of-type {\n",
       "        vertical-align: middle;\n",
       "    }\n",
       "\n",
       "    .dataframe tbody tr th {\n",
       "        vertical-align: top;\n",
       "    }\n",
       "\n",
       "    .dataframe thead th {\n",
       "        text-align: right;\n",
       "    }\n",
       "</style>\n",
       "<table border=\"1\" class=\"dataframe\">\n",
       "  <thead>\n",
       "    <tr style=\"text-align: right;\">\n",
       "      <th></th>\n",
       "      <th>Idade</th>\n",
       "      <th>Sexo</th>\n",
       "      <th>Peso</th>\n",
       "      <th>Altura</th>\n",
       "      <th>media</th>\n",
       "      <th>log_med</th>\n",
       "    </tr>\n",
       "  </thead>\n",
       "  <tbody>\n",
       "    <tr>\n",
       "      <th>0</th>\n",
       "      <td>21</td>\n",
       "      <td>F</td>\n",
       "      <td>50</td>\n",
       "      <td>1.57</td>\n",
       "      <td>1.516530</td>\n",
       "      <td>0.758265</td>\n",
       "    </tr>\n",
       "    <tr>\n",
       "      <th>1</th>\n",
       "      <td>22</td>\n",
       "      <td>F</td>\n",
       "      <td>58</td>\n",
       "      <td>1.70</td>\n",
       "      <td>1.550802</td>\n",
       "      <td>0.775401</td>\n",
       "    </tr>\n",
       "  </tbody>\n",
       "</table>\n",
       "</div>"
      ],
      "text/plain": [
       "   Idade Sexo  Peso  Altura     media   log_med\n",
       "0     21    F    50    1.57  1.516530  0.758265\n",
       "1     22    F    58    1.70  1.550802  0.775401"
      ]
     },
     "execution_count": 37,
     "metadata": {},
     "output_type": "execute_result"
    }
   ],
   "source": [
    "# seu código aqui\n",
    "\n",
    "meu_df['log_med'] = meu_df['media']/2\n",
    "meu_df\n"
   ]
  },
  {
   "cell_type": "code",
   "execution_count": null,
   "metadata": {},
   "outputs": [],
   "source": []
  }
 ],
 "metadata": {
  "kernelspec": {
   "display_name": "Python 3 (ipykernel)",
   "language": "python",
   "name": "python3"
  },
  "language_info": {
   "codemirror_mode": {
    "name": "ipython",
    "version": 3
   },
   "file_extension": ".py",
   "mimetype": "text/x-python",
   "name": "python",
   "nbconvert_exporter": "python",
   "pygments_lexer": "ipython3",
   "version": "3.9.7"
  }
 },
 "nbformat": 4,
 "nbformat_minor": 4
}
